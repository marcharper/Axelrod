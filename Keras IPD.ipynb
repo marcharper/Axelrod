{
 "cells": [
  {
   "cell_type": "code",
   "execution_count": 1,
   "metadata": {
    "collapsed": true
   },
   "outputs": [],
   "source": [
    "%matplotlib inline\n",
    "from __future__ import print_function\n",
    "from collections import defaultdict\n",
    "import csv\n",
    "import os\n",
    "import random\n",
    "import sys\n",
    "\n",
    "from matplotlib import pyplot as plt\n",
    "import numpy as np\n",
    "from sklearn.metrics import accuracy_score, confusion_matrix\n",
    "\n",
    "import tqdm"
   ]
  },
  {
   "cell_type": "code",
   "execution_count": 2,
   "metadata": {
    "collapsed": false
   },
   "outputs": [
    {
     "data": {
      "text/html": [
       "\n",
       "    <div class=\"bk-root\">\n",
       "        <a href=\"http://bokeh.pydata.org\" target=\"_blank\" class=\"bk-logo bk-logo-small bk-logo-notebook\"></a>\n",
       "        <span id=\"3bf5ec0b-7c4d-4278-a92a-bb5588cc0842\">Loading BokehJS ...</span>\n",
       "    </div>"
      ]
     },
     "metadata": {},
     "output_type": "display_data"
    },
    {
     "data": {
      "application/javascript": [
       "\n",
       "(function(global) {\n",
       "  function now() {\n",
       "    return new Date();\n",
       "  }\n",
       "\n",
       "  var force = \"1\";\n",
       "\n",
       "  if (typeof (window._bokeh_onload_callbacks) === \"undefined\" || force !== \"\") {\n",
       "    window._bokeh_onload_callbacks = [];\n",
       "    window._bokeh_is_loading = undefined;\n",
       "  }\n",
       "\n",
       "  function run_callbacks() {\n",
       "    window._bokeh_onload_callbacks.forEach(function(callback) { callback() });\n",
       "    delete window._bokeh_onload_callbacks\n",
       "    console.info(\"Bokeh: all callbacks have finished\");\n",
       "  }\n",
       "\n",
       "  function load_libs(js_urls, callback) {\n",
       "    window._bokeh_onload_callbacks.push(callback);\n",
       "    if (window._bokeh_is_loading > 0) {\n",
       "      console.log(\"Bokeh: BokehJS is being loaded, scheduling callback at\", now());\n",
       "      return null;\n",
       "    }\n",
       "    if (js_urls == null || js_urls.length === 0) {\n",
       "      run_callbacks();\n",
       "      return null;\n",
       "    }\n",
       "    console.log(\"Bokeh: BokehJS not loaded, scheduling load and callback at\", now());\n",
       "    window._bokeh_is_loading = js_urls.length;\n",
       "    for (var i = 0; i < js_urls.length; i++) {\n",
       "      var url = js_urls[i];\n",
       "      var s = document.createElement('script');\n",
       "      s.src = url;\n",
       "      s.async = false;\n",
       "      s.onreadystatechange = s.onload = function() {\n",
       "        window._bokeh_is_loading--;\n",
       "        if (window._bokeh_is_loading === 0) {\n",
       "          console.log(\"Bokeh: all BokehJS libraries loaded\");\n",
       "          run_callbacks()\n",
       "        }\n",
       "      };\n",
       "      s.onerror = function() {\n",
       "        console.warn(\"failed to load library \" + url);\n",
       "      };\n",
       "      console.log(\"Bokeh: injecting script tag for BokehJS library: \", url);\n",
       "      document.getElementsByTagName(\"head\")[0].appendChild(s);\n",
       "    }\n",
       "  };\n",
       "\n",
       "  var js_urls = ['https://cdn.pydata.org/bokeh/release/bokeh-0.12.1.min.js', 'https://cdn.pydata.org/bokeh/release/bokeh-widgets-0.12.1.min.js', 'https://cdn.pydata.org/bokeh/release/bokeh-compiler-0.12.1.min.js'];\n",
       "\n",
       "  var inline_js = [\n",
       "    function(Bokeh) {\n",
       "      Bokeh.set_log_level(\"info\");\n",
       "    },\n",
       "    \n",
       "    function(Bokeh) {\n",
       "      \n",
       "      Bokeh.$(\"#3bf5ec0b-7c4d-4278-a92a-bb5588cc0842\").text(\"BokehJS successfully loaded\");\n",
       "      var kernel = Jupyter.notebook.kernel\n",
       "      if (kernel.execute !== undefined) {\n",
       "          kernel.execute(\"import bokeh.io; bokeh.io._nb_loaded = True\");\n",
       "      }\n",
       "    },\n",
       "    function(Bokeh) {\n",
       "      console.log(\"Bokeh: injecting CSS: https://cdn.pydata.org/bokeh/release/bokeh-0.12.1.min.css\");\n",
       "      Bokeh.embed.inject_css(\"https://cdn.pydata.org/bokeh/release/bokeh-0.12.1.min.css\");\n",
       "      console.log(\"Bokeh: injecting CSS: https://cdn.pydata.org/bokeh/release/bokeh-widgets-0.12.1.min.css\");\n",
       "      Bokeh.embed.inject_css(\"https://cdn.pydata.org/bokeh/release/bokeh-widgets-0.12.1.min.css\");\n",
       "    }\n",
       "  ];\n",
       "\n",
       "  function run_inline_js() {\n",
       "    for (var i = 0; i < inline_js.length; i++) {\n",
       "      inline_js[i](window.Bokeh);\n",
       "    }\n",
       "  }\n",
       "\n",
       "  if (window._bokeh_is_loading === 0) {\n",
       "    console.log(\"Bokeh: BokehJS loaded, going straight to plotting\");\n",
       "    run_inline_js();\n",
       "  } else {\n",
       "    load_libs(js_urls, function() {\n",
       "      console.log(\"Bokeh: BokehJS plotting callback run at\", now());\n",
       "      run_inline_js();\n",
       "    });\n",
       "  }\n",
       "}(this));"
      ]
     },
     "metadata": {},
     "output_type": "display_data"
    }
   ],
   "source": [
    "from bokeh.charts import Histogram, show\n",
    "from bokeh.io import output_notebook\n",
    "output_notebook()"
   ]
  },
  {
   "cell_type": "code",
   "execution_count": 3,
   "metadata": {
    "collapsed": false
   },
   "outputs": [
    {
     "name": "stderr",
     "output_type": "stream",
     "text": [
      "Using Theano backend.\n"
     ]
    }
   ],
   "source": [
    "from keras.models import Sequential\n",
    "from keras.models import model_from_json\n",
    "from keras.layers import Dense, Activation, Dropout\n",
    "from keras.layers import LSTM\n",
    "from keras.optimizers import Adagrad, RMSprop, SGD"
   ]
  },
  {
   "cell_type": "markdown",
   "metadata": {},
   "source": [
    "## Load and Transform Data"
   ]
  },
  {
   "cell_type": "code",
   "execution_count": 4,
   "metadata": {
    "collapsed": true
   },
   "outputs": [],
   "source": [
    "def read_batches(filename):\n",
    "    with open(filename) as in_file:\n",
    "        reader = csv.reader(in_file)\n",
    "        for row in reader:\n",
    "            x = list(map(int, row[:-1]))\n",
    "#             y = int(row[-1])\n",
    "            y = max(0, int(row[-1]))\n",
    "            yield x, y\n",
    "\n",
    "def BatchGenerator(filename, batch_size=64*1024):\n",
    "    X = []\n",
    "    Y = []\n",
    "    for x, y in read_batches(filename=filename):\n",
    "        X.append(x)\n",
    "        Y.append(y)\n",
    "        if len(Y) == batch_size:\n",
    "            yield np.array(X), np.array(Y)\n",
    "            X = []\n",
    "            Y = []\n",
    "    if len(Y):\n",
    "        yield np.array(X), np.array(Y)"
   ]
  },
  {
   "cell_type": "code",
   "execution_count": 4,
   "metadata": {
    "collapsed": false,
    "scrolled": false
   },
   "outputs": [
    {
     "name": "stdout",
     "output_type": "stream",
     "text": [
      "([0, 0, 0, 0, 0, 0, 0, 0, 0, 0, 0, 0, 0, 0, 0, 0, 0], 1)\n",
      "([1, 1, 0, 1, 0, 1, 0, 1, 0, 0, 1, 0, 1, 1, 0, 0, 0], 1)\n",
      "([2, 2, 0, 2, 0, 1, 1, 1, 1, 1, 1, 1, 1, 2, 0, 0, 0], 1)\n",
      "([3, 3, 0, 3, 0, 1, 1, 1, 1, 1, 1, 1, 1, 3, 0, 0, 0], 1)\n",
      "([4, 4, 0, 4, 0, 1, 1, 1, 1, 1, 1, 1, 1, 4, 0, 0, 0], 1)\n"
     ]
    }
   ],
   "source": [
    "g = read_batches(\"/ssd/train1.csv\")\n",
    "for i in range(0, 5):\n",
    "    print(next(g))"
   ]
  },
  {
   "cell_type": "markdown",
   "metadata": {},
   "source": [
    "## Construct our Neural Network"
   ]
  },
  {
   "cell_type": "code",
   "execution_count": 5,
   "metadata": {
    "collapsed": true
   },
   "outputs": [],
   "source": [
    "def construct_NN(activation=\"relu\", exit_act=\"sigmoid\", inner_layers=1,\n",
    "                 inner_dim=20):\n",
    "    # Define a Feed Forward NN\n",
    "    model = Sequential()\n",
    "    model.add(Dense(input_dim=17, output_dim=inner_dim))\n",
    "    model.add(Activation(activation))\n",
    "    for i in range(inner_layers):\n",
    "        model.add(Dense(input_dim=inner_dim, output_dim=inner_dim))\n",
    "        model.add(Activation(activation))    \n",
    "    # Output layer\n",
    "    model.add(Dense(input_dim=inner_dim, output_dim=1))\n",
    "    model.add(Activation(exit_act))\n",
    "    model.compile(loss='mse',\n",
    "       optimizer=Adagrad(lr=0.01, epsilon=1e-08))    \n",
    "    return model"
   ]
  },
  {
   "cell_type": "code",
   "execution_count": 9,
   "metadata": {
    "collapsed": false
   },
   "outputs": [],
   "source": [
    "def train_model(model, epochs, train_filename, nb_epoch=10,\n",
    "                batch_size=1024):\n",
    "    losses = []\n",
    "    for epoch in tqdm.tqdm(range(epochs)):\n",
    "        for X_batch, Y_batch in BatchGenerator(train_filename): \n",
    "            loss = model.fit(X_batch, Y_batch, batch_size=batch_size, \n",
    "                             nb_epoch=nb_epoch, verbose=False,\n",
    "                             validation_split=0.15,)\n",
    "            losses.extend(loss.history['loss'])\n",
    "#             loss = model.train_on_batch(X_batch, Y_batch)\n",
    "#             losses.append(loss)\n",
    "    return model, losses\n",
    "\n",
    "def test_model(model, test_filename):\n",
    "    accuracies = []\n",
    "\n",
    "    all_preds = []\n",
    "    all_y = []\n",
    "    all_probs = []\n",
    "    \n",
    "    for X, y in BatchGenerator(test_filename, batch_size=1024):\n",
    "        # Model evaluation\n",
    "        pred_y = model.predict(X, verbose=False)\n",
    "        preds  = model.predict_classes(X, verbose=False)\n",
    "        all_preds.extend(preds)\n",
    "        all_y.extend(y)\n",
    "        all_probs.extend(list(pred_y))\n",
    "        acc = accuracy_score(y, preds)\n",
    "        accuracies.append(acc)\n",
    "    \n",
    "    print('CONFUSION MATRIX:\\n', confusion_matrix(all_y, all_preds))\n",
    "    print(len(all_probs))\n",
    "    all_probs = [x[0] for x in all_probs]\n",
    "    p = Histogram(np.array(all_probs), title=\"Predicted p_coop\")\n",
    "    show(p)\n",
    "    plt.hist(accuracies)\n",
    "    plt.show()\n",
    "    print(np.mean(accuracies))\n",
    "    return np.mean(accuracies)\n",
    "#     return accuracies"
   ]
  },
  {
   "cell_type": "markdown",
   "metadata": {},
   "source": [
    "## Train the model"
   ]
  },
  {
   "cell_type": "code",
   "execution_count": null,
   "metadata": {
    "collapsed": false,
    "scrolled": false
   },
   "outputs": [],
   "source": [
    "# # Great but data is bad? (also no normalization)\n",
    "# epochs = 1\n",
    "\n",
    "# # train_filename = \"/ssd/train1.csv\"\n",
    "# train_filename = \"/ssd/archive/train1.csv\"\n",
    "# model = construct_NN(activation=\"tanh\", exit_act=\"sigmoid\",\n",
    "#                      inner_layers=1, inner_dim=10)\n",
    "# # model = construct_NN('sigmoid')\n",
    "# %time model, losses = train_model(model, epochs, train_filename, nb_epoch=1)\n",
    "\n",
    "# print(\"MSE\", losses[-1])\n",
    "\n",
    "# plt.plot(range(len(losses)), losses)\n",
    "# plt.show()\n",
    "\n",
    "# test_filename = \"/ssd/archive/test1.csv\"\n",
    "# accuracies = test_model(model, test_filename)\n",
    "# plt.hist(accuracies)\n",
    "# plt.show()\n",
    "# print(np.mean(accuracies))\n"
   ]
  },
  {
   "cell_type": "code",
   "execution_count": 10,
   "metadata": {
    "collapsed": false
   },
   "outputs": [
    {
     "name": "stderr",
     "output_type": "stream",
     "text": [
      "100%|██████████| 1/1 [04:24<00:00, 264.52s/it]\n"
     ]
    },
    {
     "name": "stdout",
     "output_type": "stream",
     "text": [
      "MSE 0.0800646690607\n"
     ]
    },
    {
     "data": {
      "image/png": "[encoded data removed]",
      "text/plain": [
       "<matplotlib.figure.Figure at 0x7f89da45e4a8>"
      ]
     },
     "metadata": {},
     "output_type": "display_data"
    }
   ],
   "source": [
    "epochs = 1\n",
    "\n",
    "train_filename = \"/ssd/train1.csv\"\n",
    "model = construct_NN(activation=\"relu\", exit_act=\"sigmoid\",\n",
    "                     inner_layers=1, inner_dim=17)\n",
    "model, losses = train_model(model, epochs, train_filename, nb_epoch=1)\n",
    "\n",
    "print(\"MSE\", losses[-1])\n",
    "\n",
    "plt.plot(range(len(losses)), losses)\n",
    "plt.show()"
   ]
  },
  {
   "cell_type": "markdown",
   "metadata": {},
   "source": [
    "## Evaluate the Model"
   ]
  },
  {
   "cell_type": "code",
   "execution_count": 11,
   "metadata": {
    "collapsed": false,
    "scrolled": true
   },
   "outputs": [
    {
     "name": "stdout",
     "output_type": "stream",
     "text": [
      "[[ 0.72515184]]\n",
      "[[1]]\n",
      "[[ 0.6073423]]\n",
      "[[1]]\n",
      "[[ 1.]]\n",
      "[[1]]\n",
      "CONFUSION MATRIX:\n",
      " [[1204228  134312]\n",
      " [ 208761 2017099]]\n",
      "3564400\n"
     ]
    },
    {
     "name": "stderr",
     "output_type": "stream",
     "text": [
      "/home/user/anaconda3/lib/python3.5/site-packages/bokeh/io.py:350: UserWarning: \n",
      "\n",
      "BokehJS does not appear to have successfully loaded. If loading BokehJS from CDN, this\n",
      "may be due to a slow or bad network connection. Possible fixes:\n",
      "\n",
      "* ALWAYS run `output_notebook()` in a cell BY ITSELF, AT THE TOP, with no other code\n",
      "* re-rerun `output_notebook()` to attempt to load from CDN again, or\n",
      "* use INLINE resources instead, as so:\n",
      "\n",
      "    from bokeh.resources import INLINE\n",
      "    output_notebook(resources=INLINE)\n",
      "\n",
      "  warnings.warn(_NB_LOAD_WARNING)\n"
     ]
    },
    {
     "data": {
      "image/png": "[encoded data removed]",
      "text/plain": [
       "<matplotlib.figure.Figure at 0x7f89daf67c88>"
      ]
     },
     "metadata": {},
     "output_type": "display_data"
    },
    {
     "name": "stdout",
     "output_type": "stream",
     "text": [
      "0.903740210657\n",
      "CPU times: user 1min 41s, sys: 484 ms, total: 1min 42s\n",
      "Wall time: 1min 42s\n"
     ]
    },
    {
     "data": {
      "text/plain": [
       "0.90374021065655119"
      ]
     },
     "execution_count": 11,
     "metadata": {},
     "output_type": "execute_result"
    }
   ],
   "source": [
    "X = np.array([[4, 0, 3, 0, 0, 1, 1, 0, 0, 0, 0, 1, 0, 2, 3, 0, 0]])\n",
    "# print(model.predict(X, verbose=False))\n",
    "print(model.predict_proba(X, verbose=False))\n",
    "print(model.predict_classes(X, verbose=False))\n",
    "\n",
    "X = np.array([[20,10,10,15,5,0,0,0,0,1,1,1,1,6,5,0,9]])\n",
    "print(model.predict_proba(X, verbose=False))\n",
    "print(model.predict_classes(X, verbose=False))\n",
    "\n",
    "X = np.array([[103,103,0,104,0,0,1,1,1,1,1,1,1,0,1,0,102]])\n",
    "print(model.predict_proba(X, verbose=False))\n",
    "print(model.predict_classes(X, verbose=False))\n",
    "\n",
    "test_filename = \"/ssd/test1.csv\"\n",
    "%time test_model(model, test_filename)\n",
    "# plt.hist(accuracies)\n",
    "# plt.show()\n",
    "# print(np.mean(accuracies))\n"
   ]
  },
  {
   "cell_type": "code",
   "execution_count": null,
   "metadata": {
    "collapsed": true
   },
   "outputs": [],
   "source": []
  },
  {
   "cell_type": "code",
   "execution_count": 12,
   "metadata": {
    "collapsed": false
   },
   "outputs": [],
   "source": [
    "def save_model(model, name):\n",
    "    # serialize model to JSON\n",
    "    model_json = model.to_json()\n",
    "    with open(name + \".json\", \"w\") as json_file:\n",
    "        json_file.write(model_json)\n",
    "    # serialize weights to HDF5\n",
    "    model.save_weights(name + \".h5\", overwrite=True)\n",
    "\n",
    "def load_model(name=\"model\"):\n",
    "    json_file = open(name + '.json', 'r')\n",
    "    loaded_model_json = json_file.read()\n",
    "    json_file.close()\n",
    "    loaded_model = model_from_json(loaded_model_json)\n",
    "    # load weights into new model\n",
    "    loaded_model.load_weights(name + \".h5\")\n",
    "    return loaded_model"
   ]
  },
  {
   "cell_type": "code",
   "execution_count": 13,
   "metadata": {
    "collapsed": true
   },
   "outputs": [],
   "source": [
    "save_model(model, \"model\")"
   ]
  },
  {
   "cell_type": "code",
   "execution_count": null,
   "metadata": {
    "collapsed": true
   },
   "outputs": [],
   "source": [
    "# save_model(model, \"total_prediction_model\")"
   ]
  },
  {
   "cell_type": "markdown",
   "metadata": {},
   "source": [
    "Now we want to train and generate new data iteratively until we win\n",
    "\n",
    "* Load model\n",
    "* Train and test\n",
    "* generate new data\n",
    "* repeat"
   ]
  },
  {
   "cell_type": "code",
   "execution_count": 23,
   "metadata": {
    "collapsed": false
   },
   "outputs": [],
   "source": [
    "model = construct_NN('relu', inner_layers=1, inner_dim=20)\n",
    "save_model(model, \"model\")"
   ]
  },
  {
   "cell_type": "code",
   "execution_count": 14,
   "metadata": {
    "collapsed": false,
    "scrolled": true
   },
   "outputs": [
    {
     "name": "stderr",
     "output_type": "stream",
     "text": [
      "100%|██████████| 2/2 [01:31<00:00, 45.70s/it]\n"
     ]
    },
    {
     "name": "stdout",
     "output_type": "stream",
     "text": [
      "CPU times: user 1min 31s, sys: 140 ms, total: 1min 31s\n",
      "Wall time: 1min 31s\n",
      "MSE 0.230692660999\n",
      "CONFUSION MATRIX:\n",
      " [[ 84787  34793]\n",
      " [   656 411764]]\n",
      "532000\n"
     ]
    },
    {
     "name": "stderr",
     "output_type": "stream",
     "text": [
      "/home/user/anaconda3/lib/python3.5/site-packages/bokeh/io.py:350: UserWarning: \n",
      "\n",
      "BokehJS does not appear to have successfully loaded. If loading BokehJS from CDN, this\n",
      "may be due to a slow or bad network connection. Possible fixes:\n",
      "\n",
      "* ALWAYS run `output_notebook()` in a cell BY ITSELF, AT THE TOP, with no other code\n",
      "* re-rerun `output_notebook()` to attempt to load from CDN again, or\n",
      "* use INLINE resources instead, as so:\n",
      "\n",
      "    from bokeh.resources import INLINE\n",
      "    output_notebook(resources=INLINE)\n",
      "\n",
      "  warnings.warn(_NB_LOAD_WARNING)\n"
     ]
    },
    {
     "data": {
      "image/png": "[encoded data removed]",
      "text/plain": [
       "<matplotlib.figure.Figure at 0x7f89da4d1438>"
      ]
     },
     "metadata": {},
     "output_type": "display_data"
    },
    {
     "name": "stdout",
     "output_type": "stream",
     "text": [
      "0.933219474689\n",
      "CPU times: user 1min 55s, sys: 516 ms, total: 1min 55s\n",
      "Wall time: 1min 55s\n"
     ]
    }
   ],
   "source": [
    "from iterative_interactions import create_interactions\n",
    "\n",
    "epochs = 2\n",
    "\n",
    "for i in range(0, 5):\n",
    "    # Generate new data\n",
    "    create_interactions(str(i))\n",
    "    # Load\n",
    "    model = load_model(name=\"model\")    \n",
    "    model.compile(loss='mse',\n",
    "       optimizer=Adagrad(lr=0.01, epsilon=1e-08))\n",
    "    # Train\n",
    "    train_filename = \"/ssd/train_extra.csv{}\".format(i)\n",
    "    %time model, losses = train_model(model, epochs, train_filename, nb_epoch=2)    \n",
    "    # Test\n",
    "    print(\"MSE\", losses[-1])\n",
    "    test_filename = \"/ssd/test_extra.csv{}\".format(i)\n",
    "    %time m = test_model(model, test_filename)\n",
    "    # Save model\n",
    "    save_model(model, name=\"model\")\n",
    "    if m > 0.93:\n",
    "        break\n"
   ]
  },
  {
   "cell_type": "code",
   "execution_count": null,
   "metadata": {
    "collapsed": true
   },
   "outputs": [],
   "source": []
  }
 ],
 "metadata": {
  "anaconda-cloud": {},
  "kernelspec": {
   "display_name": "Python [Root]",
   "language": "python",
   "name": "Python [Root]"
  },
  "language_info": {
   "codemirror_mode": {
    "name": "ipython",
    "version": 3
   },
   "file_extension": ".py",
   "mimetype": "text/x-python",
   "name": "python",
   "nbconvert_exporter": "python",
   "pygments_lexer": "ipython3",
   "version": "3.5.2"
  }
 },
 "nbformat": 4,
 "nbformat_minor": 0
}
